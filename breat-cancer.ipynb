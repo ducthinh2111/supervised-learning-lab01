{
 "cells": [
  {
   "cell_type": "code",
   "execution_count": 7,
   "metadata": {},
   "outputs": [
    {
     "name": "stdout",
     "output_type": "stream",
     "text": [
      "10.38\n"
     ]
    }
   ],
   "source": [
    "# prepare datasets\n",
    "import pandas as pd\n",
    "import numpy as np\n",
    "\n",
    "data_file = pd.read_csv(\"breast-cancer.data\", usecols=[0, 1, 2, 3])\n",
    "data = data_file.values\n",
    "target_file = pd.read_csv(\"iris.data\", usecols=[4])\n",
    "t = target_file.values\n",
    "target = []\n",
    "for i in range(0, 150):\n",
    "    if t[i][0] == 'Iris-setosa':\n",
    "        target.append(0)\n",
    "    if t[i][0] == 'Iris-versicolor':\n",
    "        target.append(1)\n",
    "    if t[i][0] == 'Iris-virginica':\n",
    "        target.append(2)\n",
    "target = np.array(target)"
   ]
  },
  {
   "cell_type": "code",
   "execution_count": 2,
   "metadata": {},
   "outputs": [
    {
     "name": "stdout",
     "output_type": "stream",
     "text": [
      "Accuracy:\n",
      "0.9736842105263158\n",
      "Recall:\n",
      "0.9791666666666666\n",
      "Precision:\n",
      "0.9666666666666667\n"
     ]
    }
   ],
   "source": [
    "# knn\n",
    "from sklearn.neighbors import KNeighborsClassifier\n",
    "from sklearn.model_selection import train_test_split\n",
    "from sklearn.metrics import recall_score, precision_score\n",
    "\n",
    "# run model\n",
    "X_train, X_test, y_train, y_test = train_test_split(data, target, random_state=0)\n",
    "knn = KNeighborsClassifier(n_neighbors=7)\n",
    "knn.fit(X_train, y_train)\n",
    "y_pred = knn.predict(X_test)\n",
    "\n",
    "#evaluation\n",
    "print('Accuracy:')\n",
    "print(np.mean(y_pred == y_test))\n",
    "print('Recall:')\n",
    "print(recall_score(y_test, y_pred, average='macro'))\n",
    "print('Precision:')\n",
    "print(precision_score(y_test, y_pred, average='macro'))"
   ]
  },
  {
   "cell_type": "code",
   "execution_count": 3,
   "metadata": {},
   "outputs": [
    {
     "name": "stdout",
     "output_type": "stream",
     "text": [
      "Accuracy:\n",
      "0.9736842105263158\n",
      "Recall:\n",
      "0.9791666666666666\n",
      "Precision:\n",
      "0.9666666666666667\n"
     ]
    }
   ],
   "source": [
    "# Decision tree\n",
    "from sklearn.tree import DecisionTreeClassifier\n",
    "\n",
    "# run model\n",
    "tree = DecisionTreeClassifier(random_state=0)\n",
    "tree.fit(X_train, y_train)\n",
    "y_pred = tree.predict(X_test)\n",
    "\n",
    "#evaluation\n",
    "print('Accuracy:')\n",
    "print(np.mean(y_pred == y_test))\n",
    "print('Recall:')\n",
    "print(recall_score(y_test, y_pred, average='macro'))\n",
    "print('Precision:')\n",
    "print(precision_score(y_test, y_pred, average='macro'))"
   ]
  },
  {
   "cell_type": "code",
   "execution_count": 4,
   "metadata": {},
   "outputs": [
    {
     "name": "stdout",
     "output_type": "stream",
     "text": [
      "Accuracy:\n",
      "0.9736842105263158\n",
      "Recall:\n",
      "0.9791666666666666\n",
      "Precision:\n",
      "0.9666666666666667\n"
     ]
    }
   ],
   "source": [
    "# random forest\n",
    "from sklearn.ensemble import RandomForestClassifier\n",
    "\n",
    "# run model\n",
    "forest = RandomForestClassifier(n_estimators=100, random_state=0)\n",
    "forest.fit(X_train, y_train)\n",
    "y_pred = forest.predict(X_test)\n",
    "\n",
    "# evaluation\n",
    "print('Accuracy:')\n",
    "print(np.mean(y_pred == y_test))\n",
    "print('Recall:')\n",
    "print(recall_score(y_test, y_pred, average='macro'))\n",
    "print('Precision:')\n",
    "print(precision_score(y_test, y_pred, average='macro'))"
   ]
  },
  {
   "cell_type": "code",
   "execution_count": 5,
   "metadata": {},
   "outputs": [
    {
     "name": "stdout",
     "output_type": "stream",
     "text": [
      "Linear\n",
      "Accuracy:\n",
      "0.9736842105263158\n",
      "Recall:\n",
      "0.9791666666666666\n",
      "Precision:\n",
      "0.9666666666666667\n",
      "Poly\n",
      "Accuracy:\n",
      "0.9736842105263158\n",
      "Recall:\n",
      "0.9791666666666666\n",
      "Precision:\n",
      "0.9666666666666667\n",
      "Rbf\n",
      "Accuracy:\n",
      "0.9736842105263158\n",
      "Recall:\n",
      "0.9791666666666666\n",
      "Precision:\n",
      "0.9666666666666667\n"
     ]
    }
   ],
   "source": [
    "# SVM\n",
    "from sklearn.svm import SVC\n",
    "min_on_training = X_train.min(axis=0)\n",
    "range_on_training = (X_train - min_on_training).max(axis=0)\n",
    "X_train_scaled = (X_train - min_on_training) / range_on_training\n",
    "X_test_scaled = (X_test - min_on_training) / range_on_training\n",
    "svc = SVC(kernel='linear', C=1000)\n",
    "svc.fit(X_train_scaled, y_train)\n",
    "y_pred = svc.predict(X_test_scaled)\n",
    "\n",
    "# evaluation\n",
    "print('#Linear')\n",
    "print('Accuracy:')\n",
    "print(np.mean(y_pred == y_test))\n",
    "print('Recall:')\n",
    "print(recall_score(y_test, y_pred, average='macro'))\n",
    "print('Precision:')\n",
    "print(precision_score(y_test, y_pred, average='macro'))\n",
    "\n",
    "svc = SVC(kernel='poly', C=1000)\n",
    "svc.fit(X_train_scaled, y_train)\n",
    "y_pred = svc.predict(X_test_scaled)\n",
    "\n",
    "# evaluation\n",
    "print('#Poly')\n",
    "print('Accuracy:')\n",
    "print(np.mean(y_pred == y_test))\n",
    "print('Recall:')\n",
    "print(recall_score(y_test, y_pred, average='macro'))\n",
    "print('Precision:')\n",
    "print(precision_score(y_test, y_pred, average='macro'))\n",
    "\n",
    "svc = SVC(kernel='rbf', C=1000)\n",
    "svc.fit(X_train_scaled, y_train)\n",
    "y_pred = svc.predict(X_test_scaled)\n",
    "\n",
    "# evaluation\n",
    "print('#Rbf')\n",
    "print('Accuracy:')\n",
    "print(np.mean(y_pred == y_test))\n",
    "print('Recall:')\n",
    "print(recall_score(y_test, y_pred, average='macro'))\n",
    "print('Precision:')\n",
    "print(precision_score(y_test, y_pred, average='macro'))"
   ]
  }
 ],
 "metadata": {
  "kernelspec": {
   "display_name": "Python 3",
   "language": "python",
   "name": "python3"
  },
  "language_info": {
   "codemirror_mode": {
    "name": "ipython",
    "version": 3
   },
   "file_extension": ".py",
   "mimetype": "text/x-python",
   "name": "python",
   "nbconvert_exporter": "python",
   "pygments_lexer": "ipython3",
   "version": "3.8.3"
  }
 },
 "nbformat": 4,
 "nbformat_minor": 4
}
