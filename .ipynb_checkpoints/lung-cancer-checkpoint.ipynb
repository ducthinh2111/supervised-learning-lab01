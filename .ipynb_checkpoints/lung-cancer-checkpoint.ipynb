{
 "cells": [
  {
   "cell_type": "code",
   "execution_count": 20,
   "metadata": {},
   "outputs": [],
   "source": [
    "# prepare datasets\n",
    "import pandas as pd\n",
    "import numpy as np\n",
    "\n",
    "data_cols = []\n",
    "for i in range(1, 56):\n",
    "    data_cols.append(i)\n",
    "data_file = pd.read_csv(\"lung-cancer.data\", usecols=data_cols)\n",
    "data = data_file.values\n",
    "target_file = pd.read_csv(\"lung-cancer.data\", usecols=[0])\n",
    "t = target_file.values\n",
    "target = []\n",
    "for i in range(0, 31):\n",
    "    target.append(t[i][0])\n",
    "target = np.array(target)"
   ]
  },
  {
   "cell_type": "code",
   "execution_count": 21,
   "metadata": {},
   "outputs": [
    {
     "name": "stdout",
     "output_type": "stream",
     "text": [
      "Accuracy:\n",
      "0.75\n",
      "Recall:\n",
      "0.8333333333333334\n",
      "Precision:\n",
      "0.8666666666666667\n"
     ]
    }
   ],
   "source": [
    "# knn\n",
    "from sklearn.neighbors import KNeighborsClassifier\n",
    "from sklearn.model_selection import train_test_split\n",
    "from sklearn.metrics import recall_score, precision_score\n",
    "\n",
    "# run model\n",
    "X_train, X_test, y_train, y_test = train_test_split(data, target, random_state=0)\n",
    "knn = KNeighborsClassifier(n_neighbors=7)\n",
    "knn.fit(X_train, y_train)\n",
    "y_pred = knn.predict(X_test)\n",
    "\n",
    "#evaluation\n",
    "print('Accuracy:')\n",
    "print(np.mean(y_pred == y_test))\n",
    "print('Recall:')\n",
    "print(recall_score(y_test, y_pred, average='macro'))\n",
    "print('Precision:')\n",
    "print(precision_score(y_test, y_pred, average='macro'))"
   ]
  },
  {
   "cell_type": "code",
   "execution_count": 19,
   "metadata": {},
   "outputs": [
    {
     "name": "stdout",
     "output_type": "stream",
     "text": [
      "Accuracy:\n",
      "0.75\n",
      "Recall:\n",
      "0.8333333333333334\n",
      "Precision:\n",
      "0.8666666666666667\n"
     ]
    }
   ],
   "source": [
    "#decision tree\n",
    "from sklearn.tree import DecisionTreeClassifier\n",
    "\n",
    "# run model\n",
    "tree = DecisionTreeClassifier(random_state=0)\n",
    "tree.fit(X_train, y_train)\n",
    "y_pred = tree.predict(X_test)\n",
    "\n",
    "#evaluation\n",
    "print('Accuracy:')\n",
    "print(np.mean(y_pred == y_test))\n",
    "print('Recall:')\n",
    "print(recall_score(y_test, y_pred, average='macro'))\n",
    "print('Precision:')\n",
    "print(precision_score(y_test, y_pred, average='macro'))"
   ]
  },
  {
   "cell_type": "code",
   "execution_count": 24,
   "metadata": {},
   "outputs": [
    {
     "name": "stdout",
     "output_type": "stream",
     "text": [
      "Accuracy:\n",
      "0.5\n",
      "Recall:\n",
      "0.38888888888888884\n",
      "Precision:\n",
      "0.35555555555555557\n"
     ]
    },
    {
     "name": "stderr",
     "output_type": "stream",
     "text": [
      "C:\\Users\\stare\\anaconda3\\lib\\site-packages\\sklearn\\metrics\\_classification.py:1221: UndefinedMetricWarning: Precision is ill-defined and being set to 0.0 in labels with no predicted samples. Use `zero_division` parameter to control this behavior.\n",
      "  _warn_prf(average, modifier, msg_start, len(result))\n"
     ]
    }
   ],
   "source": [
    "# random forest\n",
    "from sklearn.ensemble import RandomForestClassifier\n",
    "\n",
    "# run model\n",
    "forest = RandomForestClassifier(n_estimators=100, random_state=0)\n",
    "forest.fit(X_train, y_train)\n",
    "y_pred = forest.predict(X_test)\n",
    "\n",
    "# evaluation\n",
    "print('Accuracy:')\n",
    "print(np.mean(y_pred == y_test))\n",
    "print('Recall:')\n",
    "print(recall_score(y_test, y_pred, average='macro'))\n",
    "print('Precision:')\n",
    "print(precision_score(y_test, y_pred, average='macro'))"
   ]
  },
  {
   "cell_type": "code",
   "execution_count": 27,
   "metadata": {},
   "outputs": [
    {
     "name": "stdout",
     "output_type": "stream",
     "text": [
      "#Linear\n",
      "Accuracy:\n",
      "0.5\n",
      "Recall:\n",
      "0.611111111111111\n",
      "Precision:\n",
      "0.611111111111111\n",
      "#Poly\n",
      "Accuracy:\n",
      "0.5\n",
      "Recall:\n",
      "0.611111111111111\n",
      "Precision:\n",
      "0.611111111111111\n",
      "#Rbf\n",
      "Accuracy:\n",
      "0.5\n",
      "Recall:\n",
      "0.611111111111111\n",
      "Precision:\n",
      "0.611111111111111\n"
     ]
    }
   ],
   "source": [
    "# SVM\n",
    "from sklearn.svm import SVC\n",
    "X_train, X_test, y_train, y_test = train_test_split(data, target, random_state=0)\n",
    "svc = SVC(kernel='linear', C=1000)\n",
    "svc.fit(X_train, y_train)\n",
    "y_pred = svc.predict(X_test)\n",
    "\n",
    "# evaluation\n",
    "print('#Linear')\n",
    "print('Accuracy:')\n",
    "print(np.mean(y_pred == y_test))\n",
    "print('Recall:')\n",
    "print(recall_score(y_test, y_pred, average='macro'))\n",
    "print('Precision:')\n",
    "print(precision_score(y_test, y_pred, average='macro'))\n",
    "\n",
    "svc = SVC(kernel='poly', C=1000)\n",
    "svc.fit(X_train, y_train)\n",
    "y_pred = svc.predict(X_test)\n",
    "\n",
    "# evaluation\n",
    "print('#Poly')\n",
    "print('Accuracy:')\n",
    "print(np.mean(y_pred == y_test))\n",
    "print('Recall:')\n",
    "print(recall_score(y_test, y_pred, average='macro'))\n",
    "print('Precision:')\n",
    "print(precision_score(y_test, y_pred, average='macro'))\n",
    "\n",
    "svc = SVC(kernel='rbf', C=1000)\n",
    "svc.fit(X_train, y_train)\n",
    "y_pred = svc.predict(X_test)\n",
    "\n",
    "# evaluation\n",
    "print('#Rbf')\n",
    "print('Accuracy:')\n",
    "print(np.mean(y_pred == y_test))\n",
    "print('Recall:')\n",
    "print(recall_score(y_test, y_pred, average='macro'))\n",
    "print('Precision:')\n",
    "print(precision_score(y_test, y_pred, average='macro'))"
   ]
  },
  {
   "cell_type": "code",
   "execution_count": null,
   "metadata": {},
   "outputs": [],
   "source": []
  }
 ],
 "metadata": {
  "kernelspec": {
   "display_name": "Python 3",
   "language": "python",
   "name": "python3"
  },
  "language_info": {
   "codemirror_mode": {
    "name": "ipython",
    "version": 3
   },
   "file_extension": ".py",
   "mimetype": "text/x-python",
   "name": "python",
   "nbconvert_exporter": "python",
   "pygments_lexer": "ipython3",
   "version": "3.8.3"
  }
 },
 "nbformat": 4,
 "nbformat_minor": 4
}
